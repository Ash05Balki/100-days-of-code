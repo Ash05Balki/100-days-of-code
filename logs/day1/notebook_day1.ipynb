{
 "cells": [
  {
   "cell_type": "markdown",
   "id": "51881eac",
   "metadata": {},
   "source": [
    "# EDA & Hypothesis Testing"
   ]
  },
  {
   "cell_type": "markdown",
   "id": "d609faad",
   "metadata": {},
   "source": [
    "### Context"
   ]
  },
  {
   "cell_type": "markdown",
   "id": "403333bb",
   "metadata": {},
   "source": [
    "Data Used: https://www.kaggle.com/yeanzc/telco-customer-churn-ibm-dataset\n",
    "\n",
    "The dataset represents Telco data of customers, the services opted, their tenure, monthly charges etc., and a label indicating if the customer churned post a certain tenure.\n",
    "\n",
    "The Data also has other features describing the \"Churn Label\" like \"Churn Value\",\"Churn Score\",\"CLTV\" and \"Churn Reason\" which can be used for analysis, but not for predicting churn. \n",
    "\n",
    "You can take a classification approach having \"Churn Label\" as the dependent variable or a regression approach having \"Churn Score\" as the dependent variable.\n",
    "\n",
    "I am using the dataset not just to apply a predictive model, but to try out extensive hypothesis testing techniques and predictive modelling.\n",
    "This simple dataset was chosen as it has both categorical and numerical independent variables and you have categorical and numerical dependent variables to consider.\n",
    "\n",
    "Let's start with basic visualisation and EDA to get a hold of the data and the distribution it follows before moving on to the complex techniques."
   ]
  },
  {
   "cell_type": "code",
   "execution_count": null,
   "id": "5c1081dc",
   "metadata": {},
   "outputs": [],
   "source": [
    "#importing packages used\n",
    "import pandas as pd"
   ]
  },
  {
   "cell_type": "code",
   "execution_count": null,
   "id": "5c0ebbdc",
   "metadata": {},
   "outputs": [],
   "source": [
    "#importing the data file as a dataframe\n",
    "df=pd.read_excel(\"telco_customer_churn.xlsx\")\n",
    "pd.set_option('display.max_columns', None) #to display all the columns of the dataframe\n",
    "df.head() #viewing the first 5 rows by default"
   ]
  },
  {
   "cell_type": "code",
   "execution_count": null,
   "id": "f630bc99",
   "metadata": {},
   "outputs": [],
   "source": [
    "df.columns"
   ]
  },
  {
   "cell_type": "code",
   "execution_count": null,
   "id": "4f5c6fa2",
   "metadata": {},
   "outputs": [],
   "source": [
    "target_share=(df[['Churn Label']].value_counts()*100.0/len(df)).reset_index() # This indicates that the data set has imbalanced class labels\n",
    "list_tgt=list(target_share.columns)\n",
    "list_tgt[-1:]=['Share']\n",
    "target_share.columns =list_tgt\n",
    "target_share"
   ]
  },
  {
   "cell_type": "code",
   "execution_count": null,
   "id": "2709e3f5",
   "metadata": {},
   "outputs": [],
   "source": [
    "df_churned=df[df['Churn Label']=='Yes']\n",
    "df_notchurned=df[df['Churn Label']=='No']"
   ]
  },
  {
   "cell_type": "markdown",
   "id": "d180daea",
   "metadata": {},
   "source": [
    "Creating a list of columns to be used as independent features. The list is referred back during EDA."
   ]
  },
  {
   "cell_type": "code",
   "execution_count": null,
   "id": "44cb9f72",
   "metadata": {},
   "outputs": [],
   "source": [
    "#creating a list of numerical and categorical column names by filtering on dtype\n",
    "df_dtypes=df.dtypes.reset_index()\n",
    "df_numeric=df_dtypes[df_dtypes[0]!='object']\n",
    "df_categoric=df_dtypes[df_dtypes[0]=='object']\n",
    "\n",
    "numeric_cols=list(df_numeric['index'])\n",
    "categoric_cols=list(df_categoric['index'])\n",
    "\n",
    "#Manually fixing mix up of numerical and categorical columns and removing the columns not used currently\n",
    "numeric_cols.append('Total Charges')\n",
    "numeric_cols.remove('Zip Code')\n",
    "numeric_cols.remove('Churn Value')\n",
    "numeric_cols.remove('CLTV')\n",
    "categoric_cols.append('Zip Code')\n",
    "categoric_cols.remove('Total Charges')\n",
    "categoric_cols.remove('Churn Reason')\n",
    "categoric_cols.remove('Lat Long')"
   ]
  },
  {
   "cell_type": "code",
   "execution_count": null,
   "id": "27284c4b",
   "metadata": {},
   "outputs": [],
   "source": [
    "df[categoric_cols].head()"
   ]
  },
  {
   "cell_type": "code",
   "execution_count": null,
   "id": "62613b82",
   "metadata": {},
   "outputs": [],
   "source": [
    "df[numeric_cols].head()"
   ]
  },
  {
   "cell_type": "markdown",
   "id": "3deff2df",
   "metadata": {},
   "source": [
    "# Describe and Visualize Categorical variables \n",
    "### To understand their relationship with the Churn Labels"
   ]
  },
  {
   "cell_type": "code",
   "execution_count": null,
   "id": "52e93d53",
   "metadata": {},
   "outputs": [],
   "source": [
    "#Describing the categorical columns gives details on the unique values it has\n",
    "#and the frequency of the top occuring category within each of them.\n",
    "df[categoric_cols].astype('object').describe()"
   ]
  },
  {
   "cell_type": "code",
   "execution_count": null,
   "id": "391afdf7",
   "metadata": {
    "scrolled": true
   },
   "outputs": [],
   "source": [
    "# Columns with a constant value don't contribute to predicting different churn labels\n",
    "temp=df[categoric_cols].astype('object').describe().T\n",
    "temp[temp['unique']==1]"
   ]
  },
  {
   "cell_type": "code",
   "execution_count": null,
   "id": "8dba674e",
   "metadata": {
    "scrolled": true
   },
   "outputs": [],
   "source": [
    "temp[temp['unique']!=1]"
   ]
  },
  {
   "cell_type": "code",
   "execution_count": null,
   "id": "422cddff",
   "metadata": {},
   "outputs": [],
   "source": [
    "# Columns with a constant value don't contribute to predicting different churn labels\n",
    "#Columns with a large number (like n>100) of categorical values are hard to visualise\n",
    "categories_chk=list(temp[(temp['unique']>1) & (temp['unique']<5)].index)"
   ]
  },
  {
   "cell_type": "code",
   "execution_count": null,
   "id": "4cb9bb8f",
   "metadata": {},
   "outputs": [],
   "source": [
    "# Describing the data of churned and unchurned customers separately \n",
    "# can help us identify the column that differentiates for churn label with ease.\n",
    "\n",
    "# This being a preliminary check, you have to look for imbalance in categories due to natural pattern.\n",
    "# To begin with our target variable is imbalanced. 73.463% of users haven't churned as opposed to the other 26.537% "
   ]
  },
  {
   "cell_type": "code",
   "execution_count": null,
   "id": "68f1e916",
   "metadata": {
    "scrolled": true
   },
   "outputs": [],
   "source": [
    "df_churned_T=df_churned[categoric_cols].astype('object').describe().T\n",
    "df_churned_T['share']=df_churned_T['freq']*100.0/df_churned_T['count']\n",
    "df_churned_T.columns=[x+'_churned' for x in df_churned_T.columns]\n",
    "df_churned_T"
   ]
  },
  {
   "cell_type": "code",
   "execution_count": null,
   "id": "6d2d4adb",
   "metadata": {
    "scrolled": true
   },
   "outputs": [],
   "source": [
    "df_notchurned_T=df_notchurned[categoric_cols].astype('object').describe().T\n",
    "df_notchurned_T['share']=df_notchurned_T['freq']*100.0/df_notchurned_T['count']\n",
    "df_notchurned_T"
   ]
  },
  {
   "cell_type": "code",
   "execution_count": null,
   "id": "ce88580b",
   "metadata": {
    "scrolled": true
   },
   "outputs": [],
   "source": [
    "pd.concat([df_notchurned_T[['top','share']], df_churned_T[['top_churned','share_churned']]], axis=1)"
   ]
  },
  {
   "cell_type": "markdown",
   "id": "c2fd24d2",
   "metadata": {},
   "source": [
    "#### Note:\n",
    "The above table can be used to find out distinguishing features that can explain the variability in predicting churn.\n",
    "\n",
    "The \"top\" column represents the most frequent value in a column (refer index here) and the share out of all unchurned  instances as \"share\" for unchurned customers.\n",
    "The \"top_churned\" column represents the most frequent value in a column (refer index here) and the share out of all churned instances as \"share_churned\" for churned customers.\n",
    "\n",
    "There are two steps involved in identifying the significant columns/features.\n",
    "1. Compare the top and top_churned columns, if they are different and if share_churned has notably different value the feature is contrasting well enough between churned and unchurned instances.\n",
    "Eg: Partner, Internet Service, Online Backup, Streaming TV, Streaming Movies, Payment Method\n",
    "2.  Compare the top and top_churned columns, if they are same and if share_churned has notably different value the feature is contrasting well enough between churned and unchurned instances.\n",
    "Eg: Senior Citizen, Dependents, Online Security, Device Protection,  Tech Support,, Contract, Paperless Billing\n",
    "3. Compare the top and top_churned columns, if they are different and if share_churned is indifferent the feature is contrasting well enough between churned and unchurned instances.\n",
    "Eg: Gender, Multiple Lines\n",
    "4. Compare the top and top_churned columns, if they are same and if share_churned is indifferent the feature is contrasting well enough between churned and unchurned instances.\n",
    "Eg: Phone Service\n",
    "\n",
    "Understanding a lot of variables and ones with more than 2 categorical values can be tricky using this descriptive method. Hence, let's look at how we can understand significant variables (the ones showing variability w.r.t. to target label) through visualisation.\n"
   ]
  },
  {
   "cell_type": "markdown",
   "id": "0752c631",
   "metadata": {},
   "source": [
    "### Let's visualize and understand the same from grouped bar graphs"
   ]
  },
  {
   "cell_type": "markdown",
   "id": "f1e10931",
   "metadata": {},
   "source": [
    "Here, we are displaying grouped bar graphs to display the share of a particular categorical value in a column and how it is split within churn and not churned instances.\n",
    "\n",
    "eg: Consider the independent variable 'Gender' having values 'Female' and 'Male'. We plot the 'Female' instances that have churned (Churn Label -> Yes) as a % of all the female instances and vice versa for not chunred instances (Churn Label -> No).\n",
    "\n",
    "We compute the same share for all 'Male' instances and plot these side by side.\n",
    "\n",
    "In the above descriptive statistics we saw of all the churned instances (Churn Label -> Yes), what % are 'Female','Male' etc., displaying the which value is dominant in churned users within each categorical variable.\n",
    "\n",
    "Note that below we have a different view trying to show if a particular value within a categorical variable is skewed largely towards churn/ not.\n",
    "\n",
    "It's important to note that the skew might have a natural imbalance due to the 73-27 split of not churned and churned instances respectively in the target label. And any share value greater or lesser than this natural threshold contributes to a skew, which gives additional information to predict the target variable with aacuracy.\n",
    "\n",
    "This natural threshold of 73.463 for un-churned users and 26.537 for churned users are added to the graph as a horizontal line plot to visualise this better.\n",
    "\n",
    "From the above descriptive analysis we found that Gender is an insignificant feature as it has an equal mix of both 'Male' and 'Female' within each Churn Label.\n",
    "\n",
    "If you look at the visualisation as opposed to the inference from the above line, you can understand how the skew is represented for \"Gender\". This gives us a clear picture that the bar graph being approximately near the threshhold lines shows the natural skew in the Churn Label and not the variability.\n",
    "\n",
    "Similarly, other features like  Internet Service, Tech Support, Contract, Payment Method the share of few or more values are skewed towards one of the two target labels.\n",
    "\n",
    "Eg: Internet Service - Fiber Optic Users are skewed (bar is higher than the Churned-Ref threshold line) towards Churning (Churn Label -> Yes)\n",
    "\n",
    "This is how you can interpret categorical variables with 2-5 values with ease using grouped bar charts. This can be used for binary or multi-classification(preferably upto 5 class labels). The limitation of the values to 5 is just for ease of interpretability from these graphs."
   ]
  },
  {
   "cell_type": "code",
   "execution_count": null,
   "id": "38aa8e68",
   "metadata": {},
   "outputs": [],
   "source": [
    "import plotly.graph_objects as go\n",
    "import plotly.express as px\n",
    "from plotly.subplots import make_subplots\n",
    "import plotly.graph_objects as go\n",
    "\n",
    "for i in categories_chk:\n",
    "    if i !='Churn Label':\n",
    "        temp=pd.pivot_table(df, values = 'Count', index=[i,'Churn Label'],aggfunc='count').reset_index()\n",
    "\n",
    "        t=temp.groupby(i)['Count'].sum().reset_index()\n",
    "        final=pd.merge(temp,t,on=i,suffixes=('','_all'))\n",
    "        final['share']=final['Count']*100.0/final['Count_all']\n",
    "        print (final)\n",
    "        y_no=target_share[target_share['Churn Label']=='No']['Share']\n",
    "        y_yes=target_share[target_share['Churn Label']=='Yes']['Share']\n",
    "        fig = px.bar(final, x=\"Churn Label\", y=\"share\", color=i, barmode=\"group\", title=\"Churn - \"+i+\" Share\")\n",
    "\n",
    "        fig.add_hline(y=float(y_no),line_color=\"green\",annotation_text=\"Not Churned - Ref \"+str(round(float(y_no),3)),\n",
    "                      annotation_position=\"bottom right\")\n",
    "        fig.add_hline(y=float(y_yes),line_color=\"red\",annotation_text=\"Churned - Ref \"+str(round(float(y_yes),3)),\n",
    "                      annotation_position=\"top right\")\n",
    "        fig.show()"
   ]
  },
  {
   "cell_type": "markdown",
   "id": "0a06e027",
   "metadata": {},
   "source": [
    "Now that we've gone over how we can plot a bar graph and how we can interpret the same to identify important features in a small dataset. Let's understand how the importance translates while modelling another day."
   ]
  }
 ],
 "metadata": {
  "kernelspec": {
   "display_name": "Python 3",
   "language": "python",
   "name": "python3"
  },
  "language_info": {
   "codemirror_mode": {
    "name": "ipython",
    "version": 3
   },
   "file_extension": ".py",
   "mimetype": "text/x-python",
   "name": "python",
   "nbconvert_exporter": "python",
   "pygments_lexer": "ipython3",
   "version": "3.8.8"
  }
 },
 "nbformat": 4,
 "nbformat_minor": 5
}
